{
 "cells": [
  {
   "cell_type": "code",
   "execution_count": 1,
   "metadata": {},
   "outputs": [],
   "source": [
    "%matplotlib inline\n",
    "import matplotlib.pyplot as plt\n",
    "import numpy as np\n",
    "\n",
    "import nengo\n",
    "from nengo.utils.ensemble import sorted_neurons\n",
    "from nengo.utils.matplotlib import rasterplot"
   ]
  },
  {
   "cell_type": "code",
   "execution_count": 2,
   "metadata": {},
   "outputs": [],
   "source": [
    "import numpy as np\n",
    "import imageio\n",
    "import matplotlib.pyplot as plt\n",
    "import matplotlib as mpl\n",
    "from skimage import color\n",
    "import nengo\n",
    "%matplotlib inline\n",
    "%config InlineBackend.figure_format = 'retina'"
   ]
  },
  {
   "cell_type": "code",
   "execution_count": 3,
   "metadata": {},
   "outputs": [],
   "source": [
    "q0 = imageio.imread('8/19382486-Quadrant_I0.jpg')\n",
    "q90 = imageio.imread('8/19382486-Quadrant_I90.jpg')"
   ]
  },
  {
   "cell_type": "code",
   "execution_count": 4,
   "metadata": {},
   "outputs": [
    {
     "data": {
      "text/plain": [
       "157"
      ]
     },
     "execution_count": 4,
     "metadata": {},
     "output_type": "execute_result"
    }
   ],
   "source": [
    "#vector angulo 0  \n",
    "q0[0,0]"
   ]
  },
  {
   "cell_type": "code",
   "execution_count": 5,
   "metadata": {},
   "outputs": [
    {
     "data": {
      "text/plain": [
       "149"
      ]
     },
     "execution_count": 5,
     "metadata": {},
     "output_type": "execute_result"
    }
   ],
   "source": [
    "#vector angulo 90  \n",
    "q90[0,0]"
   ]
  },
  {
   "cell_type": "code",
   "execution_count": 8,
   "metadata": {},
   "outputs": [
    {
     "name": "stdout",
     "output_type": "stream",
     "text": [
      "Polar to rectangular:  (157+0j)\n",
      "Polar to rectangular:  (9.123618653647781e-15+149j)\n"
     ]
    }
   ],
   "source": [
    "import math\n",
    "cn = complex(1,1)\n",
    "\n",
    "# get polar coordinates\n",
    "#print(\"Polar Coordinates: \",cmath.polar(cn))\n",
    "\n",
    "cn1 = cmath.rect(q0[0,0],math.radians(0))\n",
    "cn2 = cmath.rect(q90[0,0],math.radians(90))\n",
    "\n",
    "print(\"Polar to rectangular: \",cn1)\n",
    "print(\"Polar to rectangular: \",cn2)"
   ]
  },
  {
   "cell_type": "code",
   "execution_count": null,
   "metadata": {},
   "outputs": [],
   "source": []
  },
  {
   "cell_type": "code",
   "execution_count": null,
   "metadata": {},
   "outputs": [],
   "source": []
  },
  {
   "cell_type": "code",
   "execution_count": null,
   "metadata": {},
   "outputs": [],
   "source": []
  },
  {
   "cell_type": "code",
   "execution_count": 19,
   "metadata": {},
   "outputs": [
    {
     "name": "stdout",
     "output_type": "stream",
     "text": [
      "Polar Coordinates:  (149.0, 0.785)\n"
     ]
    }
   ],
   "source": [
    "an=45\n",
    "cn_90 = complex(cmath.rect(q90[0,0],(3.14*an)/180))\n",
    "print(\"Polar Coordinates: \",cmath.polar(cn_90))"
   ]
  },
  {
   "cell_type": "code",
   "execution_count": 12,
   "metadata": {},
   "outputs": [],
   "source": [
    "v,a=cmath.polar(cn_90)"
   ]
  },
  {
   "cell_type": "code",
   "execution_count": 13,
   "metadata": {},
   "outputs": [
    {
     "data": {
      "text/plain": [
       "0.785"
      ]
     },
     "execution_count": 13,
     "metadata": {},
     "output_type": "execute_result"
    }
   ],
   "source": [
    "a"
   ]
  },
  {
   "cell_type": "code",
   "execution_count": 14,
   "metadata": {},
   "outputs": [
    {
     "data": {
      "text/plain": [
       "149.0"
      ]
     },
     "execution_count": 14,
     "metadata": {},
     "output_type": "execute_result"
    }
   ],
   "source": [
    "v"
   ]
  },
  {
   "cell_type": "code",
   "execution_count": 21,
   "metadata": {},
   "outputs": [
    {
     "data": {
      "text/plain": [
       "(210.80170421182552+210.63390396939906j)"
      ]
     },
     "execution_count": 21,
     "metadata": {},
     "output_type": "execute_result"
    }
   ],
   "source": [
    "cn_90*2"
   ]
  },
  {
   "cell_type": "code",
   "execution_count": 22,
   "metadata": {},
   "outputs": [
    {
     "name": "stdout",
     "output_type": "stream",
     "text": [
      "Polar Coordinates:  (149.0, 0.785)\n"
     ]
    }
   ],
   "source": [
    "cn_90 = complex(cmath.rect(q90[0,0],(3.14*an)/180))\n",
    "print(\"Polar Coordinates: \",cmath.polar(cn_90))"
   ]
  },
  {
   "cell_type": "code",
   "execution_count": 27,
   "metadata": {},
   "outputs": [],
   "source": [
    "def pol_rec(x,y):\n",
    "    cn = complex(cmath.rect(x,(3.14*y)/180))\n",
    "    return cn\n",
    "def rec_pol(x):\n",
    "    cmath.polar(x)\n",
    "    return cmath.polar(x)\n",
    "    "
   ]
  },
  {
   "cell_type": "code",
   "execution_count": 28,
   "metadata": {},
   "outputs": [
    {
     "data": {
      "text/plain": [
       "(141.47765383343994, 0.785)"
      ]
     },
     "execution_count": 28,
     "metadata": {},
     "output_type": "execute_result"
    }
   ],
   "source": [
    "rec_pol((pol_rec(100,0)+pol_rec(100,90)))"
   ]
  },
  {
   "cell_type": "code",
   "execution_count": 129,
   "metadata": {},
   "outputs": [
    {
     "data": {
      "text/plain": [
       "array([0, 0, 0, 0, 0, 0, 0, 0, 0, 0, 0, 0, 0, 0, 0, 0, 0, 0, 0, 0, 0, 0,\n",
       "       0, 0, 0, 0, 0, 0, 0, 0, 0, 0, 0, 0, 0, 0, 0, 0, 0, 0, 0, 0, 0, 0,\n",
       "       0, 0, 0, 0, 0, 0, 0, 0, 0, 0, 0, 0, 0, 0, 0, 0, 0, 0, 0, 0, 0, 0,\n",
       "       0, 0, 0, 0, 0, 0, 0, 0, 0, 0, 0, 0, 0, 0, 0, 0, 0, 0, 0, 0, 0, 0,\n",
       "       0, 0])"
      ]
     },
     "execution_count": 129,
     "metadata": {},
     "output_type": "execute_result"
    }
   ],
   "source": [
    "xa1= np.arange(0,90,1)\n",
    "xa2= np.arange(0,90,1)\n",
    "xa2[:]=0\n",
    "xa2"
   ]
  },
  {
   "cell_type": "code",
   "execution_count": 130,
   "metadata": {},
   "outputs": [],
   "source": [
    "xb1= np.arange(0,90,1)\n",
    "xb2= np.arange(0,90,1)\n"
   ]
  },
  {
   "cell_type": "code",
   "execution_count": 136,
   "metadata": {},
   "outputs": [],
   "source": [
    "y1= np.arange(0,90,1)\n",
    "y2= np.arange(0,90,0.1)"
   ]
  },
  {
   "cell_type": "code",
   "execution_count": 148,
   "metadata": {
    "scrolled": true
   },
   "outputs": [
    {
     "name": "stdout",
     "output_type": "stream",
     "text": [
      "a1=0 a2=0 b1=0b2=0 0 0.0\n",
      "a1=1 a2=0 b1=1b2=1 1 0.5000000000000001\n",
      "a1=3 a2=0 b1=3b2=3 5 1.5000000000000002\n",
      "a1=5 a2=0 b1=5b2=5 9 2.5\n",
      "a1=7 a2=0 b1=7b2=7 13 3.5000000000000004\n",
      "a1=9 a2=0 b1=9b2=9 17 4.5\n",
      "a1=11 a2=0 b1=11b2=11 21 5.5\n",
      "a1=13 a2=0 b1=13b2=13 25 6.499999999999998\n",
      "a1=15 a2=0 b1=15b2=15 29 7.5\n",
      "a1=17 a2=0 b1=17b2=17 33 8.5\n",
      "a1=19 a2=0 b1=19b2=19 37 9.500000000000002\n",
      "a1=21 a2=0 b1=21b2=21 41 10.500000000000002\n",
      "a1=23 a2=0 b1=23b2=23 45 11.499999999999996\n",
      "a1=25 a2=0 b1=25b2=25 48 12.499999999999996\n",
      "a1=27 a2=0 b1=27b2=27 52 13.500000000000002\n",
      "a1=29 a2=0 b1=29b2=29 56 14.500000000000002\n",
      "a1=31 a2=0 b1=31b2=31 59 15.5\n",
      "a1=33 a2=0 b1=33b2=33 63 16.5\n",
      "a1=35 a2=0 b1=35b2=35 66 17.500000000000004\n",
      "a1=37 a2=0 b1=37b2=37 70 18.5\n",
      "a1=39 a2=0 b1=39b2=39 73 19.5\n",
      "a1=41 a2=0 b1=41b2=41 76 20.5\n",
      "a1=43 a2=0 b1=43b2=43 80 21.5\n",
      "a1=45 a2=0 b1=45b2=45 83 22.5\n",
      "a1=46 a2=0 b1=46b2=46 84 23.0\n",
      "a1=48 a2=0 b1=48b2=48 87 24.0\n",
      "a1=50 a2=0 b1=50b2=50 90 25.0\n",
      "a1=52 a2=0 b1=52b2=52 93 26.0\n",
      "a1=54 a2=0 b1=54b2=54 96 27.0\n",
      "a1=56 a2=0 b1=56b2=56 98 28.0\n",
      "a1=57 a2=0 b1=57b2=57 100 28.5\n",
      "a1=59 a2=0 b1=59b2=59 102 29.499999999999993\n",
      "a1=61 a2=0 b1=61b2=61 105 30.500000000000004\n",
      "a1=63 a2=0 b1=63b2=63 107 31.50000000000001\n",
      "a1=65 a2=0 b1=65b2=65 109 32.5\n",
      "a1=66 a2=0 b1=66b2=66 110 33.0\n",
      "a1=68 a2=0 b1=68b2=68 112 34.0\n",
      "a1=70 a2=0 b1=70b2=70 114 35.00000000000001\n",
      "a1=71 a2=0 b1=71b2=71 115 35.5\n",
      "a1=73 a2=0 b1=73b2=73 117 36.5\n",
      "a1=75 a2=0 b1=75b2=75 119 37.5\n",
      "a1=76 a2=0 b1=76b2=76 119 38.00000000000001\n",
      "a1=78 a2=0 b1=78b2=78 121 39.0\n",
      "a1=80 a2=0 b1=80b2=80 122 40.0\n",
      "a1=81 a2=0 b1=81b2=81 123 40.5\n",
      "a1=83 a2=0 b1=83b2=83 124 41.5\n",
      "a1=84 a2=0 b1=84b2=84 124 42.00000000000001\n",
      "a1=86 a2=0 b1=86b2=86 125 43.0\n",
      "a1=87 a2=0 b1=87b2=87 126 43.5\n",
      "a1=89 a2=0 b1=89b2=89 127 44.50000000000001\n"
     ]
    },
    {
     "ename": "IndexError",
     "evalue": "index 90 is out of bounds for axis 0 with size 90",
     "output_type": "error",
     "traceback": [
      "\u001b[1;31m---------------------------------------------------------------------------\u001b[0m",
      "\u001b[1;31mIndexError\u001b[0m                                Traceback (most recent call last)",
      "\u001b[1;32m<ipython-input-148-fe95405bf72d>\u001b[0m in \u001b[0;36m<module>\u001b[1;34m\u001b[0m\n\u001b[0;32m      1\u001b[0m \u001b[1;32mfor\u001b[0m \u001b[0mx\u001b[0m \u001b[1;32min\u001b[0m \u001b[0my1\u001b[0m\u001b[1;33m:\u001b[0m\u001b[1;33m\u001b[0m\u001b[1;33m\u001b[0m\u001b[0m\n\u001b[1;32m----> 2\u001b[1;33m     \u001b[0my1\u001b[0m\u001b[1;33m[\u001b[0m\u001b[0mx\u001b[0m\u001b[1;33m]\u001b[0m\u001b[1;33m,\u001b[0m\u001b[0my2\u001b[0m\u001b[1;33m[\u001b[0m\u001b[0mx\u001b[0m\u001b[1;33m]\u001b[0m\u001b[1;33m=\u001b[0m\u001b[0mrec_pol\u001b[0m\u001b[1;33m(\u001b[0m\u001b[0mpol_rec\u001b[0m\u001b[1;33m(\u001b[0m\u001b[0mxa1\u001b[0m\u001b[1;33m[\u001b[0m\u001b[0mx\u001b[0m\u001b[1;33m]\u001b[0m\u001b[1;33m,\u001b[0m\u001b[0mxa2\u001b[0m\u001b[1;33m[\u001b[0m\u001b[0mx\u001b[0m\u001b[1;33m]\u001b[0m\u001b[1;33m)\u001b[0m\u001b[1;33m+\u001b[0m\u001b[0mpol_rec\u001b[0m\u001b[1;33m(\u001b[0m\u001b[0mxb1\u001b[0m\u001b[1;33m[\u001b[0m\u001b[0mx\u001b[0m\u001b[1;33m]\u001b[0m\u001b[1;33m,\u001b[0m\u001b[0mxb2\u001b[0m\u001b[1;33m[\u001b[0m\u001b[0mx\u001b[0m\u001b[1;33m]\u001b[0m\u001b[1;33m)\u001b[0m\u001b[1;33m)\u001b[0m\u001b[1;33m\u001b[0m\u001b[1;33m\u001b[0m\u001b[0m\n\u001b[0m\u001b[0;32m      3\u001b[0m     \u001b[0mprint\u001b[0m\u001b[1;33m(\u001b[0m\u001b[1;34m\"a1=\"\u001b[0m\u001b[1;33m+\u001b[0m\u001b[0mstr\u001b[0m\u001b[1;33m(\u001b[0m\u001b[0mxa1\u001b[0m\u001b[1;33m[\u001b[0m\u001b[0mx\u001b[0m\u001b[1;33m]\u001b[0m\u001b[1;33m)\u001b[0m\u001b[1;33m+\u001b[0m\u001b[1;34m\" \"\u001b[0m\u001b[1;33m+\u001b[0m\u001b[1;34m\"a2=\"\u001b[0m\u001b[1;33m+\u001b[0m\u001b[0mstr\u001b[0m\u001b[1;33m(\u001b[0m\u001b[0mxa2\u001b[0m\u001b[1;33m[\u001b[0m\u001b[0mx\u001b[0m\u001b[1;33m]\u001b[0m\u001b[1;33m)\u001b[0m\u001b[1;33m+\u001b[0m\u001b[1;34m\" \"\u001b[0m\u001b[1;33m+\u001b[0m\u001b[1;34m\"b1=\"\u001b[0m\u001b[1;33m+\u001b[0m\u001b[0mstr\u001b[0m\u001b[1;33m(\u001b[0m\u001b[0mxb1\u001b[0m\u001b[1;33m[\u001b[0m\u001b[0mx\u001b[0m\u001b[1;33m]\u001b[0m\u001b[1;33m)\u001b[0m\u001b[1;33m+\u001b[0m\u001b[1;34m\"b2=\"\u001b[0m\u001b[1;33m+\u001b[0m\u001b[0mstr\u001b[0m\u001b[1;33m(\u001b[0m\u001b[0mxb2\u001b[0m\u001b[1;33m[\u001b[0m\u001b[0mx\u001b[0m\u001b[1;33m]\u001b[0m\u001b[1;33m)\u001b[0m\u001b[1;33m+\u001b[0m\u001b[1;34m\" \"\u001b[0m\u001b[1;33m+\u001b[0m\u001b[0mstr\u001b[0m\u001b[1;33m(\u001b[0m\u001b[0my1\u001b[0m\u001b[1;33m[\u001b[0m\u001b[0mx\u001b[0m\u001b[1;33m]\u001b[0m\u001b[1;33m)\u001b[0m\u001b[1;33m+\u001b[0m\u001b[1;34m\" \"\u001b[0m\u001b[1;33m+\u001b[0m\u001b[0mstr\u001b[0m\u001b[1;33m(\u001b[0m\u001b[1;33m(\u001b[0m\u001b[0my2\u001b[0m\u001b[1;33m[\u001b[0m\u001b[0mx\u001b[0m\u001b[1;33m]\u001b[0m\u001b[1;33m*\u001b[0m\u001b[1;36m180\u001b[0m\u001b[1;33m)\u001b[0m\u001b[1;33m/\u001b[0m\u001b[1;36m3.14\u001b[0m\u001b[1;33m)\u001b[0m\u001b[1;33m)\u001b[0m\u001b[1;33m\u001b[0m\u001b[1;33m\u001b[0m\u001b[0m\n\u001b[0;32m      4\u001b[0m \u001b[1;33m\u001b[0m\u001b[0m\n",
      "\u001b[1;31mIndexError\u001b[0m: index 90 is out of bounds for axis 0 with size 90"
     ]
    }
   ],
   "source": [
    "for x in y1:\n",
    "    y1[x],y2[x]=rec_pol(pol_rec(xa1[x],xa2[x])+pol_rec(xb1[x],xb2[x]))\n",
    "    print(\"a1=\"+str(xa1[x])+\" \"+\"a2=\"+str(xa2[x])+\" \"+\"b1=\"+str(xb1[x])+\"b2=\"+str(xb2[x])+\" \"+str(y1[x])+\" \"+str((y2[x]*180)/3.14))\n",
    "    "
   ]
  },
  {
   "cell_type": "code",
   "execution_count": null,
   "metadata": {},
   "outputs": [],
   "source": []
  },
  {
   "cell_type": "code",
   "execution_count": null,
   "metadata": {},
   "outputs": [],
   "source": []
  },
  {
   "cell_type": "code",
   "execution_count": null,
   "metadata": {},
   "outputs": [],
   "source": []
  },
  {
   "cell_type": "code",
   "execution_count": null,
   "metadata": {},
   "outputs": [],
   "source": []
  },
  {
   "cell_type": "code",
   "execution_count": null,
   "metadata": {},
   "outputs": [],
   "source": []
  }
 ],
 "metadata": {
  "kernelspec": {
   "display_name": "Python 3",
   "language": "python",
   "name": "python3"
  },
  "language_info": {
   "codemirror_mode": {
    "name": "ipython",
    "version": 3
   },
   "file_extension": ".py",
   "mimetype": "text/x-python",
   "name": "python",
   "nbconvert_exporter": "python",
   "pygments_lexer": "ipython3",
   "version": "3.7.6"
  }
 },
 "nbformat": 4,
 "nbformat_minor": 4
}
